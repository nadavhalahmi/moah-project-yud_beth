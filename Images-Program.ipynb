{
 "cells": [
  {
   "cell_type": "markdown",
   "metadata": {},
   "source": [
    "#run all בתיבה למטה יש לשים לב להוראות ואז לעשות "
   ]
  },
  {
   "cell_type": "code",
   "execution_count": 1,
   "metadata": {
    "collapsed": true
   },
   "outputs": [],
   "source": [
    "#save small_net_4X3X3.net at your notebook. directory example: WinPython-64bit-2.7.10.2/notebooks/my notebook\n",
    "import_loaction='F:/Users/Nadav/OneDrive/WinPython-64bit-2.7.10.2/notebooks/docs/Siduri - images for project 2/' #enter import folder\n",
    "export_location='F:/Users/Nadav/OneDrive/WinPython-64bit-2.7.10.2/notebooks/docs/Siduri - images for project 2_Fixed_By_Net2/' #enter destination folder"
   ]
  },
  {
   "cell_type": "code",
   "execution_count": 2,
   "metadata": {
    "collapsed": true
   },
   "outputs": [],
   "source": [
    "import numpy as np\n",
    "import matplotlib.pyplot as plt\n",
    "import copy\n",
    "%matplotlib inline\n",
    "#%matplotlib qt\n",
    "from PIL import Image\n",
    "from pybrain.tools.shortcuts import buildNetwork\n",
    "from pybrain.tools.shortcuts import SigmoidLayer\n",
    "from pybrain.datasets import SupervisedDataSet\n",
    "from pybrain.supervised.trainers import BackpropTrainer\n",
    "import pickle\n",
    "import os"
   ]
  },
  {
   "cell_type": "code",
   "execution_count": 3,
   "metadata": {
    "collapsed": false
   },
   "outputs": [],
   "source": [
    "images=[]\n",
    "location=import_loaction\n",
    "files = os.walk(location).next()[2]\n",
    "file_count = len(files)\n",
    "for k in range(file_count):\n",
    "    name=str(k)+'.JPG'\n",
    "    img = Image.open(location+name)\n",
    "    images.append(img)\n",
    "small_images = copy.deepcopy(images)\n",
    "for i in range(len(small_images)):\n",
    "    cols,rows=small_images[i].size\n",
    "    if cols>rows:\n",
    "        small_images[i]=small_images[i].resize((4, 3), Image.ANTIALIAS)\n",
    "    else:\n",
    "        small_images[i]=small_images[i].resize((3, 4), Image.ANTIALIAS)\n",
    "for i in range(len(small_images)):\n",
    "    small_images[i]=np.array(small_images[i])\n",
    "images_arr=[]\n",
    "for i in range(len(images)):\n",
    "    images_arr.append(np.array(images[i]))\n",
    "small_images=np.array(small_images)\n",
    "small_images_list=[]\n",
    "for i in range(len(small_images)):\n",
    "    small_images_list.append(small_images[i].reshape(36))\n",
    "small_images=small_images_list\n",
    "total_small_images=np.vstack((small_images))\n",
    "small_images_inputs=np.column_stack((range(len(total_small_images)),total_small_images))\n",
    "small_indexes=small_images_inputs[:,0]\n",
    "f=open('small_net_4X3X3.net','r')\n",
    "small_net=pickle.load(f)\n",
    "small_h=[]\n",
    "for i in range(total_small_images.shape[0]):\n",
    "    small_h.append(small_net.activate(total_small_images[i]))\n",
    "small_h=np.array(small_h)\n",
    "small_h_list=[]\n",
    "for i in range(small_h.shape[0]):\n",
    "    small_h_list.append(np.where(small_h[i]==max(small_h[i]),1,0))\n",
    "small_h_arr=np.array(small_h_list)\n",
    "k=0\n",
    "location=export_location\n",
    "if not os.path.exists(location):\n",
    "    os.makedirs(location)\n",
    "for i in small_h_arr:\n",
    "    name=str(k)+'.jpg'\n",
    "    if sum(abs(i-[1,0,0,0]))==0:\n",
    "        images[k].save(location+name)\n",
    "        k+=1\n",
    "    elif sum(abs(i-[0,1,0,0]))==0:\n",
    "        images[k].rotate(90).save(location+name)\n",
    "        k+=1\n",
    "    elif sum(abs(i-[0,0,1,0]))==0:\n",
    "        images[k].rotate(180).save(location+name)\n",
    "        k+=1\n",
    "    else:\n",
    "        images[k].rotate(270).save(location+name)\n",
    "        k+=1"
   ]
  }
 ],
 "metadata": {
  "kernelspec": {
   "display_name": "Python 2",
   "language": "python",
   "name": "python2"
  },
  "language_info": {
   "codemirror_mode": {
    "name": "ipython",
    "version": 2
   },
   "file_extension": ".py",
   "mimetype": "text/x-python",
   "name": "python",
   "nbconvert_exporter": "python",
   "pygments_lexer": "ipython2",
   "version": "2.7.10"
  }
 },
 "nbformat": 4,
 "nbformat_minor": 0
}
